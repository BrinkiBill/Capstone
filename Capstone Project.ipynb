{
    "cells": [
        {
            "cell_type": "markdown",
            "metadata": {
                "collapsed": true
            },
            "source": "# Business Problem"
        },
        {
            "cell_type": "markdown",
            "metadata": {},
            "source": "Melbourne has dominated Australia's population growth for the 15th year in a row as of 2017, adding 125,424 people between 2016\u20132017. It is expected to boom past 5 million people by 2019 and overtake Sydney's declined population growth in the late 2020s or early 2030s."
        },
        {
            "cell_type": "markdown",
            "metadata": {},
            "source": "Looking at these projections investors and working professionals have an increasing interest in undestanding early opportunities that may arise, especially in the real estate  and small business sector. City of Melbourne posted population projection data for the city from 2016-2041 which highlights spatial distribution of projected population and its implications."
        },
        {
            "cell_type": "markdown",
            "metadata": {},
            "source": " We will use population projection data and foursquare API for following analysis:\n \n 1. Understanding how urban footprint of Melbourne will expand\n 2. Classifying neighborhoods as highly developed, downtown and less/under developed\n 3. Exploring underdeveloped neighborhoods looking at remarkable population growth\n 4. Identifying business opportunities in urbanizing neighborhoods"
        },
        {
            "cell_type": "markdown",
            "metadata": {},
            "source": "# Data"
        },
        {
            "cell_type": "markdown",
            "metadata": {},
            "source": "The Data for this excercise will be used from the two sources below:\n\n1. Population Projection https://data.melbourne.vic.gov.au/People/City-of-Melbourne-Population-Forecasts-2016-to-204/vtsx-jhki\n2. Foursquare Developers Access to venue data: https://foursquare.com/"
        },
        {
            "cell_type": "markdown",
            "metadata": {},
            "source": "https://data.melbourne.vic.gov.au/resource/vtsx-jhki.csv"
        }
    ],
    "metadata": {
        "kernelspec": {
            "display_name": "Python 3.6",
            "language": "python",
            "name": "python3"
        },
        "language_info": {
            "codemirror_mode": {
                "name": "ipython",
                "version": 3
            },
            "file_extension": ".py",
            "mimetype": "text/x-python",
            "name": "python",
            "nbconvert_exporter": "python",
            "pygments_lexer": "ipython3",
            "version": "3.6.9"
        }
    },
    "nbformat": 4,
    "nbformat_minor": 1
}