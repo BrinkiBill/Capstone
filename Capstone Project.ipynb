{
    "cells": [
        {
            "cell_type": "markdown",
            "metadata": {
                "collapsed": true
            },
            "source": "# Business Problem"
        },
        {
            "cell_type": "markdown",
            "metadata": {},
            "source": "Melbourne has dominated Australia's population growth for the 15th year in a row as of 2017, adding 125,424 people between 2016\u20132017. It is expected to boom past 5 million people by 2019 and overtake Sydney's declined population growth in the late 2020s or early 2030s."
        },
        {
            "cell_type": "markdown",
            "metadata": {},
            "source": "Looking at these projections investors and working professionals have an increasing interest in undestanding early opportunities that may arise, especially in the real estate  and small business sector. City of Melbourne posted population projection data for the city from 2016-2041 which highlights spatial distribution of projected population and its implications."
        },
        {
            "cell_type": "markdown",
            "metadata": {},
            "source": "We will use population projection data and foursquare API to perform the following analysis:\n \n 1. Understanding how urban footprint of Melbourne will expand\n 2. Classifying neighborhoods as highly developed and less/under developed\n 3. Exploring underdeveloped neighborhoods looking at remarkable population growth\n 4. Identifying business opportunities \n \nThe analysis will help home buyers and real estate investors as well as entrepreneurs to identify which suburbs will be amongst the most popular ones in the coming years and hence provide some indication as to where to invest in a property or start a business."
        },
        {
            "cell_type": "markdown",
            "metadata": {},
            "source": "# Data"
        },
        {
            "cell_type": "markdown",
            "metadata": {},
            "source": "The Data for this excercise will be used from the two sources below:\n\n1. Population Projection https://data.melbourne.vic.gov.au/People/City-of-Melbourne-Population-Forecasts-2016-to-204/vtsx-jhki\n2. Foursquare Developers Access to venue data: https://foursquare.com/\n\nThe polulation data (shown below) will be used to evaluate the population growth in each suburb from 2018 to 2031 and 2041 respectively.\nAfterwards, the coordinates for each suburb will be extracted and used to obtain information from Foursquare about the number of venues, shops, etc in each suburb. Clustering this data it should be possible to divide the suburbs into highly developed and less developed ones.\nFinally, combining the two datasets a map will be produced indicating which suburbs are less developed and have a high growth potential."
        },
        {
            "cell_type": "code",
            "execution_count": 1,
            "metadata": {},
            "outputs": [
                {
                    "data": {
                        "text/html": "<div>\n<style scoped>\n    .dataframe tbody tr th:only-of-type {\n        vertical-align: middle;\n    }\n\n    .dataframe tbody tr th {\n        vertical-align: top;\n    }\n\n    .dataframe thead th {\n        text-align: right;\n    }\n</style>\n<table border=\"1\" class=\"dataframe\">\n  <thead>\n    <tr style=\"text-align: right;\">\n      <th></th>\n      <th>year</th>\n      <th>geography</th>\n      <th>total_population</th>\n      <th>total_0_4_years</th>\n      <th>total_5_9_years</th>\n      <th>total_10_14_years</th>\n      <th>total_15_19_years</th>\n      <th>total_20_24_years</th>\n      <th>total_25_29_years</th>\n      <th>total_30_34_years</th>\n      <th>...</th>\n      <th>female_40_44_years</th>\n      <th>female_45_49_years</th>\n      <th>female_50_54_years</th>\n      <th>female_55_59_years</th>\n      <th>female_60_64_years</th>\n      <th>female_65_69_years</th>\n      <th>female_70_74_years</th>\n      <th>female_75_79_years</th>\n      <th>female_80_84_years</th>\n      <th>female_85_years_and_over</th>\n    </tr>\n  </thead>\n  <tbody>\n    <tr>\n      <th>0</th>\n      <td>2016</td>\n      <td>City of Melbourne</td>\n      <td>146096</td>\n      <td>4902</td>\n      <td>2688</td>\n      <td>2018</td>\n      <td>11593</td>\n      <td>31755</td>\n      <td>28314</td>\n      <td>19085</td>\n      <td>...</td>\n      <td>3139</td>\n      <td>2723</td>\n      <td>2571</td>\n      <td>2337</td>\n      <td>2076</td>\n      <td>1790</td>\n      <td>1128</td>\n      <td>738</td>\n      <td>534</td>\n      <td>815</td>\n    </tr>\n    <tr>\n      <th>1</th>\n      <td>2017</td>\n      <td>City of Melbourne</td>\n      <td>159141</td>\n      <td>5253</td>\n      <td>2914</td>\n      <td>2415</td>\n      <td>12391</td>\n      <td>34538</td>\n      <td>31403</td>\n      <td>20652</td>\n      <td>...</td>\n      <td>3408</td>\n      <td>3012</td>\n      <td>2742</td>\n      <td>2477</td>\n      <td>2269</td>\n      <td>1859</td>\n      <td>1273</td>\n      <td>808</td>\n      <td>558</td>\n      <td>863</td>\n    </tr>\n    <tr>\n      <th>2</th>\n      <td>2018</td>\n      <td>City of Melbourne</td>\n      <td>169961</td>\n      <td>5739</td>\n      <td>3159</td>\n      <td>2668</td>\n      <td>13046</td>\n      <td>36091</td>\n      <td>33750</td>\n      <td>22232</td>\n      <td>...</td>\n      <td>3686</td>\n      <td>3178</td>\n      <td>2939</td>\n      <td>2668</td>\n      <td>2401</td>\n      <td>1968</td>\n      <td>1445</td>\n      <td>854</td>\n      <td>592</td>\n      <td>893</td>\n    </tr>\n    <tr>\n      <th>3</th>\n      <td>2019</td>\n      <td>City of Melbourne</td>\n      <td>179814</td>\n      <td>6101</td>\n      <td>3422</td>\n      <td>2879</td>\n      <td>14464</td>\n      <td>37723</td>\n      <td>35128</td>\n      <td>23471</td>\n      <td>...</td>\n      <td>3916</td>\n      <td>3399</td>\n      <td>3076</td>\n      <td>2832</td>\n      <td>2521</td>\n      <td>2083</td>\n      <td>1561</td>\n      <td>941</td>\n      <td>621</td>\n      <td>922</td>\n    </tr>\n    <tr>\n      <th>4</th>\n      <td>2020</td>\n      <td>City of Melbourne</td>\n      <td>190238</td>\n      <td>6452</td>\n      <td>3672</td>\n      <td>3053</td>\n      <td>15539</td>\n      <td>39417</td>\n      <td>36820</td>\n      <td>24920</td>\n      <td>...</td>\n      <td>4255</td>\n      <td>3605</td>\n      <td>3240</td>\n      <td>3001</td>\n      <td>2653</td>\n      <td>2220</td>\n      <td>1687</td>\n      <td>1029</td>\n      <td>687</td>\n      <td>957</td>\n    </tr>\n  </tbody>\n</table>\n<p>5 rows \u00d7 59 columns</p>\n</div>",
                        "text/plain": "   year          geography  total_population  total_0_4_years  \\\n0  2016  City of Melbourne            146096             4902   \n1  2017  City of Melbourne            159141             5253   \n2  2018  City of Melbourne            169961             5739   \n3  2019  City of Melbourne            179814             6101   \n4  2020  City of Melbourne            190238             6452   \n\n   total_5_9_years  total_10_14_years  total_15_19_years  total_20_24_years  \\\n0             2688               2018              11593              31755   \n1             2914               2415              12391              34538   \n2             3159               2668              13046              36091   \n3             3422               2879              14464              37723   \n4             3672               3053              15539              39417   \n\n   total_25_29_years  total_30_34_years  ...  female_40_44_years  \\\n0              28314              19085  ...                3139   \n1              31403              20652  ...                3408   \n2              33750              22232  ...                3686   \n3              35128              23471  ...                3916   \n4              36820              24920  ...                4255   \n\n   female_45_49_years  female_50_54_years  female_55_59_years  \\\n0                2723                2571                2337   \n1                3012                2742                2477   \n2                3178                2939                2668   \n3                3399                3076                2832   \n4                3605                3240                3001   \n\n   female_60_64_years  female_65_69_years  female_70_74_years  \\\n0                2076                1790                1128   \n1                2269                1859                1273   \n2                2401                1968                1445   \n3                2521                2083                1561   \n4                2653                2220                1687   \n\n   female_75_79_years  female_80_84_years  female_85_years_and_over  \n0                 738                 534                       815  \n1                 808                 558                       863  \n2                 854                 592                       893  \n3                 941                 621                       922  \n4                1029                 687                       957  \n\n[5 rows x 59 columns]"
                    },
                    "execution_count": 1,
                    "metadata": {},
                    "output_type": "execute_result"
                }
            ],
            "source": "import pandas as pd\ndf = pd.read_csv('https://data.melbourne.vic.gov.au/resource/vtsx-jhki.csv')\ndf.head()"
        },
        {
            "cell_type": "code",
            "execution_count": null,
            "metadata": {},
            "outputs": [],
            "source": ""
        }
    ],
    "metadata": {
        "kernelspec": {
            "display_name": "Python 3.6",
            "language": "python",
            "name": "python3"
        },
        "language_info": {
            "codemirror_mode": {
                "name": "ipython",
                "version": 3
            },
            "file_extension": ".py",
            "mimetype": "text/x-python",
            "name": "python",
            "nbconvert_exporter": "python",
            "pygments_lexer": "ipython3",
            "version": "3.6.9"
        }
    },
    "nbformat": 4,
    "nbformat_minor": 1
}